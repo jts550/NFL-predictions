{
 "cells": [
  {
   "cell_type": "markdown",
   "metadata": {},
   "source": [
    "Currently tests two baseline models for the 2017 season.  Will update with more data as it is acquired.\n",
    "\n",
    "First Baseline is an average of the pointspread predictions from various casinos and betting outlets. This does not require training, though we could train a linear regression model w/ regularization and achieve a similar result (as we'd expect the betting outlets to be relatively equally predictive on average, so their weights should be highly similar under L2-regularized linear regression)."
   ]
  },
  {
   "cell_type": "code",
   "execution_count": 1,
   "metadata": {
    "collapsed": true
   },
   "outputs": [],
   "source": [
    "import numpy as np\n",
    "import pandas as pd"
   ]
  },
  {
   "cell_type": "code",
   "execution_count": 41,
   "metadata": {},
   "outputs": [],
   "source": [
    "#Import data\n",
    "odds = pd.read_csv(\"base_data/nfl_odds_2017.csv\")\n",
    "team_stats = pd.read_csv(\"base_data/nflstats2017.csv\")\n",
    "\n",
    "#Formatting to create key and filter\n",
    "odds[\"datestring\"] = pd.to_datetime(odds['date']).dt.strftime('%Y%m%d')\n",
    "odds[\"Spread_key\"] = odds['datestring'] + odds['Home']\n",
    "odds['Spread_val'] = odds['HomeScore'] - odds['AwayScore']\n",
    "spreads = odds.filter(regex = \"Spread_\")"
   ]
  },
  {
   "cell_type": "code",
   "execution_count": 70,
   "metadata": {},
   "outputs": [
    {
     "ename": "SyntaxError",
     "evalue": "invalid syntax (<ipython-input-70-78bca923e1e6>, line 2)",
     "output_type": "error",
     "traceback": [
      "\u001b[0;36m  File \u001b[0;32m\"<ipython-input-70-78bca923e1e6>\"\u001b[0;36m, line \u001b[0;32m2\u001b[0m\n\u001b[0;31m    y = spreads['Spread_val'].values.\u001b[0m\n\u001b[0m                                     ^\u001b[0m\n\u001b[0;31mSyntaxError\u001b[0m\u001b[0;31m:\u001b[0m invalid syntax\n"
     ]
    }
   ],
   "source": [
    "X = spreads.values[:,:-2].astype('float32')\n",
    "y = spreads['Spread_val'].values.astype()\n",
    "print(X)"
   ]
  },
  {
   "cell_type": "code",
   "execution_count": 67,
   "metadata": {},
   "outputs": [
    {
     "name": "stdout",
     "output_type": "stream",
     "text": [
      "[36.75390625 266.09765625 165.765625 295.41015625 172.265625 478.515625 nan\n",
      " 114.22265625 262.03515625 1650.390625 606.390625 nan nan 35.25390625\n",
      " 170.62890625 2.44140625 196.0 464.94140625 157.81640625 514.72265625\n",
      " 98.75390625 nan 127.97265625 2.44140625 16.0 475.78515625 1530.765625\n",
      " 663.0625 278.47265625 844.62890625 119.62890625 24.37890625 46.41015625\n",
      " 252.015625 1.12890625 49.0 101.25390625 nan 1147.515625 289.0 278.47265625\n",
      " 278.47265625 69.09765625 66.015625 66.015625 182.25 194.25390625\n",
      " 805.140625 91.44140625 5.640625 415.140625 735.765625 0.140625 91.44140625\n",
      " 1635.19140625 nan 570.015625 18.59765625 39.84765625 1.12890625 1660.5625\n",
      " 20.81640625 250.03515625 77.66015625 49.0 18.0625 3.0625 1.0 96.28515625\n",
      " nan 15.50390625 48.12890625 4.0 101.25390625 1122.25 187.34765625\n",
      " 43.06640625 4.25390625 5.94140625 118.265625 5.34765625 0.31640625\n",
      " 561.09765625 83.265625 6.890625 100.0 377.81640625 268.140625 3.75390625\n",
      " 177.22265625 441.0 4.0 36.0 122.37890625 78.765625 165.765625 900.0\n",
      " 405.015625 1296.0 36.0 170.62890625 356.265625 438.37890625 365.765625\n",
      " 1327.69140625 230.66015625 1849.0 478.515625 142.50390625 787.50390625\n",
      " 64.0 219.41015625 258.00390625 138.0625 1305.015625 86.72265625 nan 289.0\n",
      " 293.265625 97.515625 0.03515625 178.890625 0.0 473.0625 37.515625\n",
      " 732.37890625 1590.015625 1229.37890625 151.59765625 30.25 36.0 232.5625\n",
      " 148.53515625 549.31640625 1521.0 4.515625 1028.00390625 588.0625 189.0625\n",
      " 61.03515625 1516.12890625 49.0 nan 75.47265625 nan 1052.19140625\n",
      " 907.515625 36.75390625 377.81640625 1177.34765625 0.0625 640.72265625\n",
      " 151.59765625 1369.0 nan 337.640625 148.53515625 50.765625 1036.03515625\n",
      " 10.97265625 523.265625 91.44140625 293.265625 11.390625 585.03515625\n",
      " 470.34765625 49.87890625 7.91015625 74.390625 nan 194.25390625\n",
      " 116.91015625 1748.28515625 297.5625 319.515625 225.0 nan 546.390625 9.0\n",
      " 712.22265625 794.53515625 2.84765625 81.0 900.0 509.06640625 nan\n",
      " 254.00390625 10.16015625 286.87890625 105.0625 326.25390625 60.0625\n",
      " 28.22265625 4.515625 84.41015625 nan 395.015625 nan nan nan 76.5625\n",
      " 232.5625 nan 78.765625 576.0 49.0 nan 14.0625 221.265625 226.87890625\n",
      " 297.5625 133.69140625 98.75390625 573.00390625 2364.390625 1595.00390625\n",
      " nan 156.25 36.0 30.94140625 18.0625 nan 84.41015625 101.25390625\n",
      " 425.390625 634.41015625 679.25390625 170.62890625 523.265625 33.78515625\n",
      " 21.97265625 nan nan nan 199.515625 49.0 97.515625 nan 1364.37890625\n",
      " 370.5625 286.87890625 20.25 0.0 972.66015625 213.890625 729.0 752.81640625\n",
      " 73.31640625 682.515625 nan 9.765625 95.0625 90.25 42.25 0.5625 56.25 nan\n",
      " nan nan nan nan nan nan nan nan nan nan]\n",
      "nan\n"
     ]
    }
   ],
   "source": [
    "scores = np.nanmean(X, axis = 1)\n",
    "residual = (scores - y)**2\n",
    "print(residual)\n",
    "loss = np.nanmean(residual)\n",
    "print(loss)"
   ]
  },
  {
   "cell_type": "code",
   "execution_count": null,
   "metadata": {
    "collapsed": true
   },
   "outputs": [],
   "source": []
  }
 ],
 "metadata": {
  "kernelspec": {
   "display_name": "Python 3",
   "language": "python",
   "name": "python3"
  },
  "language_info": {
   "codemirror_mode": {
    "name": "ipython",
    "version": 3
   },
   "file_extension": ".py",
   "mimetype": "text/x-python",
   "name": "python",
   "nbconvert_exporter": "python",
   "pygments_lexer": "ipython3",
   "version": "3.6.1"
  }
 },
 "nbformat": 4,
 "nbformat_minor": 2
}
