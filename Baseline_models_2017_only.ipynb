{
 "cells": [
  {
   "cell_type": "markdown",
   "metadata": {},
   "source": [
    "Currently tests two baseline models for the 2017 season.  Will update with more data as it is acquired.\n",
    "\n",
    "First baseline is an average of the pointspread predictions from various casinos and betting outlets. This does not require training, though we could train a linear regression model w/ regularization and achieve a similar result (as we'd expect the betting outlets to be relatively equally predictive on average, so their weights should be highly similar under L2-regularized linear regression)."
   ]
  },
  {
   "cell_type": "code",
   "execution_count": 1,
   "metadata": {
    "collapsed": true
   },
   "outputs": [],
   "source": [
    "import numpy as np\n",
    "import pandas as pd"
   ]
  },
  {
   "cell_type": "code",
   "execution_count": 32,
   "metadata": {},
   "outputs": [],
   "source": [
    "#Import data\n",
    "odds = pd.read_csv(\"base_data/nfl_odds_2017.csv\")\n",
    "game_stats = pd.read_csv(\"base_data/nflstats2017.csv\")\n",
    "game_stats.rename(index = str, columns = {'HPS': 'APS', 'HPSY': 'APSY', 'HPS.1':'HPS', 'HPSY.1':'HPSY'}, inplace = True)"
   ]
  },
  {
   "cell_type": "code",
   "execution_count": 3,
   "metadata": {},
   "outputs": [
    {
     "name": "stdout",
     "output_type": "stream",
     "text": [
      "347.285\n"
     ]
    },
    {
     "name": "stderr",
     "output_type": "stream",
     "text": [
      "/anaconda/lib/python3.6/site-packages/ipykernel_launcher.py:10: RuntimeWarning: Mean of empty slice\n",
      "  # Remove the CWD from sys.path while we load stuff.\n"
     ]
    }
   ],
   "source": [
    "#Formatting to create key and filter\n",
    "odds[\"datestring\"] = pd.to_datetime(odds['date']).dt.strftime('%Y%m%d')\n",
    "odds[\"Spread_key\"] = odds['datestring'] + odds['Home']\n",
    "odds['Spread_val'] = odds['HomeScore'] - odds['AwayScore']\n",
    "spreads = odds.filter(regex = \"Spread_\")\n",
    "\n",
    "#Compute square loss over 2017 season\n",
    "X = spreads.values[:,:-2].astype('float32')\n",
    "y = spreads['Spread_val'].values.astype('float32')\n",
    "scores = np.nanmean(X, axis = 1)\n",
    "residual = (scores - y)**2\n",
    "loss = np.nanmean(residual)\n",
    "print(loss)"
   ]
  },
  {
   "cell_type": "markdown",
   "metadata": {},
   "source": [
    "Second baseline is a regression tree model that will use basic categorical features (Home/Away team, start time, home/away team stats) to predict the outcome.  For current purposes, will train on first 8 weeks of the season and test on the rest (this will change with more data).  This requires a lot more preprocessing, as we need to aggregate average statistics at that point in the season for each team."
   ]
  },
  {
   "cell_type": "code",
   "execution_count": 27,
   "metadata": {},
   "outputs": [],
   "source": [
    "def process_team_stats(stats, team):\n",
    "    t_stats = stats.query('Home == @team | Away == @team')\n",
    "    agg_stats = pd.DataFrame()\n",
    "    count = 0\n",
    "    cols = ['FD','Fum','FumL','PY','PA','PI','PS', 'PSY', 'RA', 'RY']\n",
    "    \n",
    "    for index,week in t_stats.iterrows():\n",
    "        if team == week['Home']:\n",
    "            prefix = 'H'\n",
    "        else:\n",
    "            prefix = 'A'\n",
    "            \n",
    " \n",
    "    \n",
    "    return agg_stats"
   ]
  },
  {
   "cell_type": "code",
   "execution_count": 28,
   "metadata": {},
   "outputs": [],
   "source": [
    "game_stats['Datetime'] = pd.to_datetime(game_stats['Start'])\n",
    "game_stats['Key'] = game_stats['Datetime'].dt.strftime('%Y%m%d') + game_stats['Home']\n",
    "game_stats['Spread'] = game_stats['HPts'] - game_stats['APts']\n",
    "\n",
    "teams = game_stats['Home'].unique()\n",
    "\n",
    "for t in teams:\n",
    "    process_team_stats(game_stats, t)\n"
   ]
  },
  {
   "cell_type": "code",
   "execution_count": 33,
   "metadata": {},
   "outputs": [
    {
     "name": "stdout",
     "output_type": "stream",
     "text": [
      "Index(['Season', 'Start', 'Week', 'Away', 'Home', 'APts', 'HPts', 'OverUnder',\n",
      "       'VegasLine', 'AFD', 'AFum', 'AFumL', 'APY', 'APA', 'API', 'APS', 'APSY',\n",
      "       'ARA', 'ARY', 'HFD', 'HFum', 'HFumL', 'HPY', 'HPA', 'HPI', 'HPS',\n",
      "       'HPSY', 'HRA', 'HRY'],\n",
      "      dtype='object')\n"
     ]
    }
   ],
   "source": [
    "print(game_stats.columns)"
   ]
  },
  {
   "cell_type": "code",
   "execution_count": null,
   "metadata": {
    "collapsed": true
   },
   "outputs": [],
   "source": []
  }
 ],
 "metadata": {
  "kernelspec": {
   "display_name": "Python 3",
   "language": "python",
   "name": "python3"
  },
  "language_info": {
   "codemirror_mode": {
    "name": "ipython",
    "version": 3
   },
   "file_extension": ".py",
   "mimetype": "text/x-python",
   "name": "python",
   "nbconvert_exporter": "python",
   "pygments_lexer": "ipython3",
   "version": "3.6.1"
  }
 },
 "nbformat": 4,
 "nbformat_minor": 2
}
